{
 "cells": [
  {
   "cell_type": "code",
   "execution_count": 1,
   "id": "f902418c-c38e-4c11-9a41-d668b1b66873",
   "metadata": {},
   "outputs": [
    {
     "name": "stdout",
     "output_type": "stream",
     "text": [
      "8\n"
     ]
    }
   ],
   "source": [
    "def find_largest(nums):\n",
    "    largest = nums[0]\n",
    "    for num in nums:\n",
    "        if num > largest:\n",
    "            largest = num\n",
    "    return largest\n",
    "\n",
    "numbers = [3, 5, 2, 8, 4]\n",
    "print(find_largest(numbers)) # Output: 8\n"
   ]
  },
  {
   "cell_type": "code",
   "execution_count": 3,
   "id": "252d0d36-2432-4a26-9645-4ae6f5148e1b",
   "metadata": {},
   "outputs": [
    {
     "name": "stdout",
     "output_type": "stream",
     "text": [
      "3\n"
     ]
    }
   ],
   "source": [
    "def count_vowels(s):\n",
    "    vowels = 'aeiouAEIOU'\n",
    "    count = 0\n",
    "    for char in s:\n",
    "        if char in vowels:\n",
    "            count += 1\n",
    "    return count\n",
    "\n",
    "sentence = \"Hello, World!\"\n",
    "print(count_vowels(sentence)) # Output: 3"
   ]
  },
  {
   "cell_type": "code",
   "execution_count": 4,
   "id": "3460ba07-8900-4ed0-91d1-1354c311a0bf",
   "metadata": {},
   "outputs": [
    {
     "name": "stdout",
     "output_type": "stream",
     "text": [
      "['bird', 'monkey', 'elephant']\n"
     ]
    }
   ],
   "source": [
    "def even_length_strings(strings):\n",
    "    even_strings = []\n",
    "    for s in strings:\n",
    "        if len(s) % 2 == 0:\n",
    "            even_strings.append(s)\n",
    "    return even_strings\n",
    "\n",
    "words = ['cat', 'dog', 'bird', 'monkey', 'elephant']\n",
    "print(even_length_strings(words)) # Output: ['bird', 'monkey', 'elephant']"
   ]
  },
  {
   "cell_type": "code",
   "execution_count": 6,
   "id": "76e73895-03d2-4b5a-9be6-0432d517bdcc",
   "metadata": {},
   "outputs": [
    {
     "name": "stdout",
     "output_type": "stream",
     "text": [
      "55\n"
     ]
    }
   ],
   "source": [
    "def sum_of_squares(nums):\n",
    "    return sum([x**2 for x in nums])\n",
    "\n",
    "numbers = [1, 2, 3, 4, 5]\n",
    "print(sum_of_squares(numbers)) # Output: 55"
   ]
  },
  {
   "cell_type": "code",
   "execution_count": 7,
   "id": "be3e0196-08ea-4ad4-9fe6-734c3d7895aa",
   "metadata": {},
   "outputs": [
    {
     "name": "stdout",
     "output_type": "stream",
     "text": [
      "True\n",
      "False\n"
     ]
    }
   ],
   "source": [
    "def is_palindrome(s):\n",
    "    return s == s[::-1]\n",
    "\n",
    "print(is_palindrome(\"racecar\")) # True\n",
    "print(is_palindrome(\"hello\")) # False"
   ]
  },
  {
   "cell_type": "code",
   "execution_count": 8,
   "id": "e3845581-60f8-46c8-86a8-c9db07eda38c",
   "metadata": {},
   "outputs": [
    {
     "name": "stdout",
     "output_type": "stream",
     "text": [
      "1\n",
      "2\n",
      "Fizz\n",
      "4\n",
      "Buzz\n",
      "Fizz\n",
      "7\n",
      "8\n",
      "Fizz\n",
      "Buzz\n",
      "11\n",
      "Fizz\n",
      "13\n",
      "14\n",
      "FizzBuzz\n",
      "16\n",
      "17\n",
      "Fizz\n",
      "19\n",
      "Buzz\n",
      "Fizz\n",
      "22\n",
      "23\n",
      "Fizz\n",
      "Buzz\n"
     ]
    }
   ],
   "source": [
    "for i in range(1, 26):\n",
    "    if i % 15 == 0:\n",
    "        print(\"FizzBuzz\")\n",
    "    elif i % 3 == 0:\n",
    "        print(\"Fizz\")\n",
    "    elif i % 5 == 0:\n",
    "        print(\"Buzz\")\n",
    "    else:\n",
    "        print(i)"
   ]
  },
  {
   "cell_type": "code",
   "execution_count": 9,
   "id": "cf4fd5a0-e45b-4c6d-93c7-a803750c248f",
   "metadata": {},
   "outputs": [
    {
     "name": "stdout",
     "output_type": "stream",
     "text": [
      "[5, 4, 3, 2, 1]\n"
     ]
    }
   ],
   "source": [
    "def reverse_list(lst):\n",
    "  output = []\n",
    "  for l in range(len(lst)-1, -1, -1):\n",
    "    output.append(lst[l])\n",
    "  return output\n",
    "\n",
    "print(reverse_list([1, 2, 3, 4, 5])) # [5, 4, 3, 2, 1]"
   ]
  },
  {
   "cell_type": "code",
   "execution_count": 10,
   "id": "23ab05ce-4140-49fb-bdf5-1e8d0944d6d7",
   "metadata": {},
   "outputs": [
    {
     "name": "stdout",
     "output_type": "stream",
     "text": [
      "True\n",
      "False\n"
     ]
    }
   ],
   "source": [
    "def is_leap_year(year):\n",
    "    if year % 4 == 0 and (year % 100 != 0 or year % 400 == 0):\n",
    "        return True\n",
    "    else:\n",
    "        return False\n",
    "\n",
    "print(is_leap_year(2000)) # True\n",
    "print(is_leap_year(1900)) # False"
   ]
  },
  {
   "cell_type": "code",
   "execution_count": 11,
   "id": "e75654f4-1558-4a69-8e21-8328992f584f",
   "metadata": {},
   "outputs": [
    {
     "name": "stdout",
     "output_type": "stream",
     "text": [
      "[1]\n",
      "[2]\n",
      "[2, 3]\n",
      "[1, 2, 3]\n",
      "[1, 2, 3]\n"
     ]
    }
   ],
   "source": [
    "def flatten_list(lst):\n",
    "  flat_list = []\n",
    "  for i in lst:\n",
    "    if type(i) == list:\n",
    "      flat_list.extend(flatten_list(i))\n",
    "    else:\n",
    "      flat_list.append(i)\n",
    "    print(flat_list)\n",
    "  return flat_list\n",
    "\n",
    "\n",
    "print(flatten_list([1, [2, 3]])) # [1, 2, 3]"
   ]
  },
  {
   "cell_type": "code",
   "execution_count": 12,
   "id": "febc74be-0a87-4c7d-a21a-33fd9b681d0b",
   "metadata": {},
   "outputs": [
    {
     "name": "stdout",
     "output_type": "stream",
     "text": [
      "[0, 1, 1, 2, 3, 5, 8, 13, 21, 34]\n"
     ]
    }
   ],
   "source": [
    "def fibonacci(n):\n",
    "    fib_list = [0, 1]\n",
    "    for i in range(2, n):\n",
    "        fib_list.append(fib_list[i-1] + fib_list[i-2])\n",
    "    return fib_list\n",
    "\n",
    "print(fibonacci(10)) # [0, 1, 1, 2, 3, 5, 8, 13, 21, 34]"
   ]
  },
  {
   "cell_type": "code",
   "execution_count": null,
   "id": "30081fc7-43ec-42a2-8318-52d966516012",
   "metadata": {},
   "outputs": [],
   "source": []
  }
 ],
 "metadata": {
  "kernelspec": {
   "display_name": "Python 3 (ipykernel)",
   "language": "python",
   "name": "python3"
  },
  "language_info": {
   "codemirror_mode": {
    "name": "ipython",
    "version": 3
   },
   "file_extension": ".py",
   "mimetype": "text/x-python",
   "name": "python",
   "nbconvert_exporter": "python",
   "pygments_lexer": "ipython3",
   "version": "3.11.5"
  }
 },
 "nbformat": 4,
 "nbformat_minor": 5
}
