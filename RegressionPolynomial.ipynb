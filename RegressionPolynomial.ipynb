{
  "cells": [
    {
      "cell_type": "markdown",
      "metadata": {
        "id": "UXsgQPGIuoLQ"
      },
      "source": [
        "### Implementing Polynomial Regression with dummy data"
      ]
    },
    {
      "cell_type": "code",
      "execution_count": 109,
      "metadata": {
        "colab": {
          "base_uri": "https://localhost:8080/"
        },
        "id": "N6B7WQDOutFF",
        "outputId": "71d4d3b9-3561-4657-cb9d-603ec85e75db"
      },
      "outputs": [
        {
          "name": "stdout",
          "output_type": "stream",
          "text": [
            "AIC for Linear Regression: -184.92135733303093\n"
          ]
        }
      ],
      "source": [
        "import numpy as np\n",
        "from sklearn.linear_model import LinearRegression\n",
        "from sklearn.datasets import make_regression\n",
        "import warnings\n",
        "warnings.simplefilter(\"ignore\")\n",
        "\n",
        "# Generate sample data\n",
        "X, y = make_regression(n_samples=100, n_features=1, noise=0.1)\n",
        "\n",
        "# Fit the model\n",
        "model = LinearRegression()\n",
        "model.fit(X, y)\n",
        "\n",
        "# Calculate AIC\n",
        "n = len(y)\n",
        "k = len(model.coef_) + 1  # Adding 1 for the intercept\n",
        "mse = np.mean((model.predict(X) - y)**2)\n",
        "log_likelihood = -n/2 * np.log(2 * np.pi * mse) - n/2\n",
        "aic = 2*k - 2*log_likelihood\n",
        "print(f\"AIC for Linear Regression: {aic}\")"
      ]
    },
    {
      "cell_type": "code",
      "execution_count": 110,
      "metadata": {
        "colab": {
          "base_uri": "https://localhost:8080/"
        },
        "id": "30_HEPOh0Fla",
        "outputId": "6feaed1d-fd0a-42ee-9a8c-bffe020275f2"
      },
      "outputs": [
        {
          "name": "stdout",
          "output_type": "stream",
          "text": [
            "AIC for Polynomial Regression: -176.76597821078053\n"
          ]
        }
      ],
      "source": [
        "from sklearn.preprocessing import PolynomialFeatures\n",
        "\n",
        "# Generate polynomial features\n",
        "poly = PolynomialFeatures(degree=12)\n",
        "X_poly = poly.fit_transform(X)\n",
        "\n",
        "# Fit the model\n",
        "model_poly = LinearRegression()\n",
        "model_poly.fit(X_poly, y)\n",
        "\n",
        "# Calculate AIC for polynomial regression\n",
        "k_poly = len(model_poly.coef_)\n",
        "mse_poly = np.mean((model_poly.predict(X_poly) - y)**2)\n",
        "log_likelihood_poly = -n/2 * np.log(2 * np.pi * mse_poly) - n/2\n",
        "aic_poly = 2*k_poly - 2*log_likelihood_poly\n",
        "print(f\"AIC for Polynomial Regression: {aic_poly}\")"
      ]
    }
  ],
  "metadata": {
    "colab": {
      "authorship_tag": "ABX9TyMgsWKdHJMHwSLo5s+XGT4k",
      "include_colab_link": true,
      "mount_file_id": "18pND_PZUw992cCvYiO65CjYhKa9jlX2T",
      "provenance": []
    },
    "kernelspec": {
      "display_name": "Python 3",
      "name": "python3"
    },
    "language_info": {
      "name": "python"
    }
  },
  "nbformat": 4,
  "nbformat_minor": 0
}
