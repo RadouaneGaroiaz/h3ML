{
 "cells": [
  {
   "cell_type": "code",
   "execution_count": 1,
   "id": "cb8b9733-3fa0-4687-bb51-65b9f0148422",
   "metadata": {},
   "outputs": [
    {
     "name": "stdout",
     "output_type": "stream",
     "text": [
      "120\n"
     ]
    }
   ],
   "source": [
    "def factorial(n):\n",
    "    if n == 0:\n",
    "        return 1\n",
    "    else:\n",
    "        return n * factorial(n-1)\n",
    "\n",
    "print(factorial(5)) # Output: 120"
   ]
  },
  {
   "cell_type": "code",
   "execution_count": 2,
   "id": "d288a92e-92af-427d-a6e2-1798fc84266f",
   "metadata": {},
   "outputs": [
    {
     "name": "stdout",
     "output_type": "stream",
     "text": [
      "True\n"
     ]
    }
   ],
   "source": [
    "def common_member(a, b):\n",
    "    for i in a:\n",
    "        for j in b:\n",
    "            if i == j:\n",
    "                return True\n",
    "    return False\n",
    "\n",
    "a = [1, 2, 3, 4, 5]\n",
    "b = [5, 6, 7, 8, 9]\n",
    "print(common_member(a, b)) # Output: True"
   ]
  },
  {
   "cell_type": "code",
   "execution_count": 3,
   "id": "32e1d3db-4e29-4a7b-b172-64b45b3e7980",
   "metadata": {},
   "outputs": [
    {
     "name": "stdout",
     "output_type": "stream",
     "text": [
      "a\n"
     ]
    }
   ],
   "source": [
    "def first_non_repeated_character(string):\n",
    "    char_count = {}\n",
    "    for i in string:\n",
    "        if i in char_count:\n",
    "            char_count[i] += 1\n",
    "        else:\n",
    "            char_count[i] = 1\n",
    "    for i in string:\n",
    "        if char_count[i] == 1:\n",
    "            return i\n",
    "    return None\n",
    "\n",
    "string = 'abcdefghijklmnopqrstuvwxyzbcdefghijklmnopqrstuvwxyz'\n",
    "print(first_non_repeated_character(string)) # Output: 'a'"
   ]
  },
  {
   "cell_type": "code",
   "execution_count": 4,
   "id": "ed409669-600f-4210-9370-ce9f418fcf63",
   "metadata": {},
   "outputs": [
    {
     "name": "stdout",
     "output_type": "stream",
     "text": [
      "True\n"
     ]
    }
   ],
   "source": [
    "def is_substring(s1, s2):\n",
    "    return s1 in s2\n",
    "\n",
    "print(is_substring(\"hello\", \"hello world\"))"
   ]
  },
  {
   "cell_type": "code",
   "execution_count": 5,
   "id": "d9efe7f1-9868-479f-a032-d15e9d5ec030",
   "metadata": {},
   "outputs": [
    {
     "name": "stdout",
     "output_type": "stream",
     "text": [
      "6\n"
     ]
    }
   ],
   "source": [
    "def sum_of_digits(number):\n",
    "    return sum(int(digit) for digit in str(number))\n",
    "\n",
    "print(sum_of_digits(123))"
   ]
  },
  {
   "cell_type": "code",
   "execution_count": 6,
   "id": "6f5f9078-1c93-4188-b221-45c9f7ba1b87",
   "metadata": {},
   "outputs": [
    {
     "name": "stdout",
     "output_type": "stream",
     "text": [
      "banana\n"
     ]
    }
   ],
   "source": [
    "def find_longest_word(words):\n",
    "    return max(words, key=len)\n",
    "\n",
    "print(find_longest_word([\"apple\", \"banana\", \"cherry\"]))"
   ]
  },
  {
   "cell_type": "code",
   "execution_count": 7,
   "id": "5f748b0b-1514-4e82-a520-b7307fa08024",
   "metadata": {},
   "outputs": [
    {
     "name": "stdout",
     "output_type": "stream",
     "text": [
      "[{'name': 'Jane', 'age': 22}, {'name': 'John', 'age': 25}, {'name': 'Jim', 'age': 30}]\n"
     ]
    }
   ],
   "source": [
    "def sort_dict_list(dict_list, key):\n",
    "    return sorted(dict_list, key=lambda x: x[key])\n",
    "\n",
    "dict_list = [{\"name\": \"John\", \"age\": 25}, {\"name\": \"Jane\", \"age\": 22}, {\"name\": \"Jim\", \"age\": 30}]\n",
    "print(sort_dict_list(dict_list, \"age\"))"
   ]
  },
  {
   "cell_type": "code",
   "execution_count": 8,
   "id": "9afdbf65-0b8d-4d86-843d-baa063b3b77a",
   "metadata": {},
   "outputs": [
    {
     "data": {
      "text/plain": [
       "1"
      ]
     },
     "execution_count": 8,
     "metadata": {},
     "output_type": "execute_result"
    }
   ],
   "source": [
    "def word_frequency(string):\n",
    "    #splitting my sentence into words \n",
    "    words = string.split()\n",
    "    #print(words)\n",
    "    word_count = {}\n",
    "    for word in words:\n",
    "        if word in word_count:\n",
    "            word_count[word] += 1\n",
    "        else:\n",
    "            word_count[word] = 1\n",
    "    return word_count\n",
    "\n",
    "string = \"the quick brown the fox jumps over the lazy dog\"\n",
    "dic = word_frequency(string)\n",
    "dic[\"fox\"]"
   ]
  },
  {
   "cell_type": "code",
   "execution_count": 9,
   "id": "f127e26d-076f-4d7a-89fa-abb4a1021b9c",
   "metadata": {},
   "outputs": [
    {
     "name": "stdout",
     "output_type": "stream",
     "text": [
      "[2, 3, 5, 7, 11, 13, 17, 19]\n"
     ]
    }
   ],
   "source": [
    "def prime_numbers(start, end):\n",
    "    prime_list = []\n",
    "    for number in range(start, end + 1):\n",
    "        for i in range(2, number):\n",
    "            if number % i == 0:\n",
    "                break\n",
    "        else:\n",
    "            prime_list.append(number)\n",
    "    return prime_list\n",
    "\n",
    "print(prime_numbers(2, 20))"
   ]
  },
  {
   "cell_type": "code",
   "execution_count": null,
   "id": "11649192-1ef1-464a-a141-e52d62cc508a",
   "metadata": {},
   "outputs": [],
   "source": []
  }
 ],
 "metadata": {
  "kernelspec": {
   "display_name": "Python 3 (ipykernel)",
   "language": "python",
   "name": "python3"
  },
  "language_info": {
   "codemirror_mode": {
    "name": "ipython",
    "version": 3
   },
   "file_extension": ".py",
   "mimetype": "text/x-python",
   "name": "python",
   "nbconvert_exporter": "python",
   "pygments_lexer": "ipython3",
   "version": "3.11.5"
  }
 },
 "nbformat": 4,
 "nbformat_minor": 5
}
